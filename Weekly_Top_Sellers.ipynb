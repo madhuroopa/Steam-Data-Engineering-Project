{
 "cells": [
  {
   "cell_type": "code",
   "execution_count": null,
   "metadata": {},
   "outputs": [],
   "source": [
    "#Reference Doc: #https://jovian.com/altamashwaseem04/scraping-top-selling-games-on-steam#C2"
   ]
  },
  {
   "cell_type": "code",
   "execution_count": null,
   "metadata": {},
   "outputs": [],
   "source": [
    "# Create a new python environment \n",
    "# Python 3.8.2"
   ]
  },
  {
   "cell_type": "code",
   "execution_count": null,
   "metadata": {},
   "outputs": [],
   "source": [
    "#%apt update\n",
    "#%apt install chromium-chromedriver --quiet\n",
    "#%pip install selenium --quiet\n",
    "#%pip install pandas --upgrade --quiet"
   ]
  },
  {
   "cell_type": "code",
   "execution_count": 1,
   "metadata": {},
   "outputs": [],
   "source": [
    "!pip install jovian --upgrade --quiet"
   ]
  },
  {
   "cell_type": "code",
   "execution_count": 1,
   "metadata": {},
   "outputs": [],
   "source": [
    "from selenium import webdriver\n",
    "from selenium.webdriver.common.by import By\n",
    "from selenium.webdriver.support.select import Select\n",
    "import pandas as pd\n",
    "import re\n",
    "import time"
   ]
  },
  {
   "cell_type": "code",
   "execution_count": 2,
   "metadata": {},
   "outputs": [],
   "source": [
    "def create_driver(url):\n",
    "  '''Takes the url as an input, creates the webdriver and returns the driver with the page'''\n",
    "  options = webdriver.ChromeOptions()\n",
    "  options.add_argument('--headless')\n",
    "  options.add_argument('--no-sandbox')\n",
    "  options.add_argument('--disable-dev-shm-usage')\n",
    "  wd = webdriver.Chrome(options=options)\n",
    "  wd.get(url)\n",
    "  return wd"
   ]
  },
  {
   "cell_type": "code",
   "execution_count": 3,
   "metadata": {},
   "outputs": [],
   "source": [
    "url='https://store.steampowered.com/charts/topsellers/US/2023-7-18'\n",
    "wd=create_driver(url)\n",
    "\n",
    "# OTHER URLS TO SCRAPE: \n",
    "# IF POSSIBLE SCRAPE THE TOTAL VISITORS/TOTAL INCOME/TOTAL GAMES SOLD from steam.com ⭐\n",
    "# Total & Active Player Counts: https://store.steampowered.com/charts/ \n",
    "# Most Played: https://store.steampowered.com/charts/mostplayed"
   ]
  },
  {
   "cell_type": "code",
   "execution_count": 4,
   "metadata": {},
   "outputs": [],
   "source": [
    "wd.get(url) # open the url in browser # collect response"
   ]
  },
  {
   "cell_type": "code",
   "execution_count": 5,
   "metadata": {},
   "outputs": [
    {
     "data": {
      "text/plain": [
       "'Weekly Top Sellers - For Tue, July 18, 2023 - Tue, July 25, 2023'"
      ]
     },
     "execution_count": 5,
     "metadata": {},
     "output_type": "execute_result"
    }
   ],
   "source": [
    "wd.title # get the title of the page # Checks if data is loaded"
   ]
  },
  {
   "cell_type": "code",
   "execution_count": 6,
   "metadata": {},
   "outputs": [],
   "source": [
    "import time\n",
    "\n",
    "time.sleep(3) #below line fails without this idk\n",
    "\n",
    "# Find the button element using one of the available locating strategies\n",
    "\n",
    "button = wd.find_element(By.CLASS_NAME, 'DialogButton._DialogLayout.Primary.Focusable')  # Replace 'button_id' with the actual ID of the button\n",
    "\n",
    "# Click the button\n",
    "\n",
    "button.click() # helps get 100 results instead of 20"
   ]
  },
  {
   "cell_type": "code",
   "execution_count": 7,
   "metadata": {},
   "outputs": [],
   "source": [
    "wd.get(url)"
   ]
  },
  {
   "cell_type": "code",
   "execution_count": 8,
   "metadata": {},
   "outputs": [
    {
     "data": {
      "text/plain": [
       "'Steam Charts'"
      ]
     },
     "execution_count": 8,
     "metadata": {},
     "output_type": "execute_result"
    }
   ],
   "source": [
    "wd.title"
   ]
  },
  {
   "cell_type": "code",
   "execution_count": 9,
   "metadata": {},
   "outputs": [],
   "source": [
    "def scroll_page(wd):\n",
    "  '''Takes the driver as an input and simulates the scrolling to get all the games'''  \n",
    "  SCROLL_PAUSE_TIME = 2\n",
    "\n",
    "  # Get scroll height\n",
    "  last_height = wd.execute_script(\"return document.body.scrollHeight\")\n",
    "\n",
    "  for i in range(6):\n",
    "    # Scroll down to bottom\n",
    "    wd.execute_script(\"window.scrollTo(0, document.body.scrollHeight);\")\n",
    "\n",
    "    # Wait to load page\n",
    "    time.sleep(SCROLL_PAUSE_TIME)\n",
    "\n",
    "    # Calculate new scroll height and compare with last scroll height\n",
    "     # Calculate new scroll height and compare with last scroll height\n",
    "    #If the new scroll height is equal to the previous scroll height, it means the page has reached the end, and the loop is terminated.\n",
    "    #Otherwise, the new scroll height becomes the last scroll height, and the loop continues\n",
    "    new_height = wd.execute_script(\"return document.body.scrollHeight\")\n",
    "    if new_height == last_height:\n",
    "        break\n",
    "    last_height = new_height\n",
    "  return"
   ]
  },
  {
   "cell_type": "code",
   "execution_count": 10,
   "metadata": {},
   "outputs": [],
   "source": [
    "scroll_page(wd)"
   ]
  },
  {
   "cell_type": "code",
   "execution_count": 11,
   "metadata": {},
   "outputs": [
    {
     "data": {
      "text/plain": [
       "\"games_rows = wd.find_element(By.ID, 'search_resultsRows')\\ngames = games_rows.find_elements(By.TAG_NAME,'a')\\ntype(games)\""
      ]
     },
     "execution_count": 11,
     "metadata": {},
     "output_type": "execute_result"
    }
   ],
   "source": [
    "'''games_rows = wd.find_element(By.ID, 'search_resultsRows')\n",
    "games = games_rows.find_elements(By.TAG_NAME,'a')\n",
    "type(games)'''"
   ]
  },
  {
   "cell_type": "code",
   "execution_count": 12,
   "metadata": {},
   "outputs": [],
   "source": [
    "def get_games(wd):\n",
    "  '''Takes the driver as an input gives and returns a selenium web element with all the games'''\n",
    "  game_rows = wd.find_elements(By.CLASS_NAME, 'weeklytopsellers_TableRow_2-RN6')\n",
    "  #games_rows = wd.find_element(By.ID, 'search_resultsRows')\n",
    "  #games = game_rows.find_elements(By.TAG_NAME,'tr')\n",
    "  return game_rows"
   ]
  },
  {
   "cell_type": "code",
   "execution_count": 13,
   "metadata": {},
   "outputs": [],
   "source": [
    "game_rows=get_games(wd)"
   ]
  },
  {
   "cell_type": "code",
   "execution_count": 14,
   "metadata": {},
   "outputs": [
    {
     "data": {
      "text/plain": [
       "list"
      ]
     },
     "execution_count": 14,
     "metadata": {},
     "output_type": "execute_result"
    }
   ],
   "source": [
    "type(game_rows)"
   ]
  },
  {
   "cell_type": "code",
   "execution_count": 15,
   "metadata": {},
   "outputs": [],
   "source": [
    "games = []\n",
    "\n",
    "for game in game_rows:\n",
    "\n",
    "    games.append(str(game.text).split('\\n'))"
   ]
  },
  {
   "cell_type": "code",
   "execution_count": 16,
   "metadata": {},
   "outputs": [
    {
     "data": {
      "text/plain": [
       "[['1', 'Counter-Strike: Global Offensive', 'Free To Play', '0 572'],\n",
       " ['2', 'Remnant II', '$49.99', '▲ 9 3'],\n",
       " ['3', \"Baldur's Gate 3\", '$59.99', '▲ 1 32'],\n",
       " ['4', 'Steam Deck', '$399.00', '▼ 2 74'],\n",
       " ['5', 'BattleBit Remastered', '$14.99', '▼ 2 6'],\n",
       " ['6', 'Apex Legends™', 'Free To Play', '▲ 3 142'],\n",
       " ['7',\n",
       "  'Call of Duty®: Modern Warfare® II',\n",
       "  '-45%',\n",
       "  '$69.99',\n",
       "  '$38.49',\n",
       "  '0 53'],\n",
       " ['8', 'Destiny 2', 'Free To Play', '▲ 5 211'],\n",
       " ['9', 'Team Fortress 2', 'Free To Play', '▼ 4 34'],\n",
       " ['10', 'The Sims™ 4', 'Free To Play', '▲ 20 162'],\n",
       " ['11',\n",
       "  \"Tom Clancy's Rainbow Six® Siege\",\n",
       "  '-60%',\n",
       "  '$19.99',\n",
       "  '$7.99',\n",
       "  '▲ 6 401'],\n",
       " ['12', 'War Thunder', 'Free To Play', '▲ 6 317'],\n",
       " ['13', 'Red Dead Redemption 2', '-67%', '$59.99', '$19.79', '▲ 10 190'],\n",
       " ['14', 'Grand Theft Auto V', '-63%', '$39.98', '$14.99', '▲ 1 445'],\n",
       " ['15', 'Black Desert', '$9.99', '▲ 1 126'],\n",
       " ['16', 'Rust', '$39.99', '▼ 2 422'],\n",
       " ['17', 'Lost Ark', 'Free To Play', '▼ 9 81'],\n",
       " ['18', 'The Elder Scrolls® Online', '$19.99', '▲ 3 444'],\n",
       " ['19', 'Street Fighter™ 6', '$59.99', '▲ 7 14'],\n",
       " ['20', 'FINAL FANTASY XIV Online', '$19.99', '▲ 5 347'],\n",
       " ['21', 'STARFIELD', 'Prepurchase', '$69.99', '▲ 8 7'],\n",
       " ['22', 'DAVE THE DIVER', '$19.99', '▼ 16 4'],\n",
       " ['23', 'The Sims™ 4 Horse Ranch Expansion Pack', '$39.99', 'NEW 1'],\n",
       " ['24', 'Valve Index® Headset', '$499.00', '0 164'],\n",
       " ['25', 'Dead by Daylight', '-60%', '$19.99', '$7.99', '▼ 13 324'],\n",
       " ['26', 'Xenonauts 2', '-25%', '$39.99', '$29.99', 'NEW 1'],\n",
       " ['27', 'Viewfinder', '$24.99', 'NEW 1'],\n",
       " ['28', 'Ready or Not', '$39.99', '▲ 15 84'],\n",
       " ['29', 'Techtonica', '$29.99', 'NEW 1'],\n",
       " ['30', 'My Friendly Neighborhood', '$29.99', 'NEW 1'],\n",
       " ['31', 'NARAKA: BLADEPOINT', 'Free To Play', '▲ 1 2'],\n",
       " ['32', 'Exoprimal', '$59.99', '▼ 22 2'],\n",
       " ['33', 'MapleStory', 'Free To Play', 'RETURNING 1'],\n",
       " ['34', 'Warframe', 'Free To Play', '▲ 2 539'],\n",
       " ['35', \"Tiny Tina's Wonderlands\", '-67%', '$59.99', '$19.79', '▲ 39 4'],\n",
       " ['36', 'Fallout 76', '$39.99', '▲ 2 172'],\n",
       " ['37', 'Sea of Thieves 2023 Edition', '$39.99', '0 164'],\n",
       " ['38', 'Ember Knights', '$19.99', 'RETURNING 1'],\n",
       " ['39', 'Borderlands 3', '-85%', '$59.99', '$8.99', '▲ 57 3'],\n",
       " ['40', 'ELDEN RING', '$59.99', '▼ 21 86'],\n",
       " ['41', 'Sons Of The Forest', '$29.99', '▼ 14 22'],\n",
       " ['42', 'Call of Duty®: Black Ops III', '-67%', '$59.99', '$19.79', '▼ 8 31'],\n",
       " ['43', 'F1® 23', '-40%', '$89.99', '$53.99', 'RETURNING 1'],\n",
       " ['44', 'SCP: 5K', '$19.99', '▼ 16 3'],\n",
       " ['45', 'Six Days in Fallujah', '$39.99', '0 5'],\n",
       " ['46', 'World of Warships', 'Free To Play', 'RETURNING 1'],\n",
       " ['47', 'Project Zomboid', '$19.99', '▼ 7 39'],\n",
       " ['48', 'Yu-Gi-Oh! Master Duel', 'Free To Play', '▼ 15 2'],\n",
       " ['49', 'Phasmophobia', '$13.99', '0 149'],\n",
       " ['50', 'Halo Infinite', 'Free To Play', 'RETURNING 1'],\n",
       " ['51', 'Sid Meier’s Civilization® VI', '-90%', '$59.99', '$5.99', '▼ 7 4'],\n",
       " ['52', 'Cyberpunk 2077', '$59.99', '▼ 30 7'],\n",
       " ['53',\n",
       "  'Microsoft Flight Simulator 40th Anniversary Edition',\n",
       "  '$59.99',\n",
       "  '▼ 3 34'],\n",
       " ['54', 'NBA 2K23', '$59.99', '▼ 3 47'],\n",
       " ['55', 'Jagged Alliance 3', '$44.99', '▼ 35 2'],\n",
       " ['56', 'EA SPORTS™ FIFA 23', '$69.99', '▲ 22 44'],\n",
       " ['57', 'Phantasy Star Online 2 New Genesis', 'Free To Play', 'RETURNING 1'],\n",
       " ['58', 'RimWorld', '$34.99', '▼ 4 42'],\n",
       " ['59', 'Stardew Valley', '$14.99', '▼ 2 18'],\n",
       " ['60', 'Hunt: Showdown', '-60%', '$39.99', '$15.99', '▼ 12 4'],\n",
       " ['61', 'Hogwarts Legacy', '$59.99', '▼ 30 34'],\n",
       " ['62', 'Smalland: Survive the Wilds', '$24.99', 'RETURNING 1'],\n",
       " ['63', 'Disney Dreamlight Valley', '$29.99', 'RETURNING 1'],\n",
       " ['64', 'The Wandering Village', '$24.99', 'RETURNING 1'],\n",
       " ['65', 'Lakeburg Legacies', '$22.99', 'NEW 1'],\n",
       " ['66', 'American Truck Simulator', '$19.99', '▼ 1 8'],\n",
       " ['67', 'Stellaris', '$39.99', '▼ 25 25'],\n",
       " ['68', 'STAR WARS™: The Old Republic™', 'Free To Play', '▲ 22 2'],\n",
       " ['69', 'Cities: Skylines', '$29.99', '▼ 6 142'],\n",
       " ['70', 'Farming Simulator 22', '$39.99', '▲ 28 2'],\n",
       " ['71', 'The Outlast Trials', '$29.99', '▼ 24 10'],\n",
       " ['72', 'BattleBit Remastered - Supporter Pack 1', '$19.99', '▼ 19 6'],\n",
       " ['73', 'SnowRunner', '-45%', '$29.99', '$16.49', 'RETURNING 1'],\n",
       " ['74', 'The Elder Scrolls V: Skyrim Special Edition', '$39.99', '▼ 14 90'],\n",
       " ['75', 'Magic: The Gathering Arena', 'Free To Play', 'RETURNING 1'],\n",
       " ['76', 'PUBG: BATTLEGROUNDS', 'Free To Play', '▼ 6 2'],\n",
       " ['77', 'Gunsmith Simulator', '$19.99', 'NEW 1'],\n",
       " ['78', 'New World', '$39.99', '▼ 9 4'],\n",
       " ['79', 'A Little to the Left', '$14.99', '▲ 16 4'],\n",
       " ['80', 'Risk of Rain 2', '$24.99', '▼ 14 5'],\n",
       " ['81', 'SMITE®', 'Free To Play', '▼ 22 2'],\n",
       " ['82', 'Dying Light 2 Stay Human', '-50%', '$59.99', '$29.99', 'RETURNING 1'],\n",
       " ['83', 'Ratchet & Clank: Rift Apart', '$59.99', 'NEW 1'],\n",
       " ['84', 'Deep Rock Galactic', '$29.99', '▼ 38 10'],\n",
       " ['85', 'The Break-In', '$14.99', 'NEW 1'],\n",
       " ['86', 'Raft', '$19.99', '▼ 25 5'],\n",
       " ['87',\n",
       "  'ARMORED CORE™ VI FIRES OF RUBICON™',\n",
       "  'Prepurchase',\n",
       "  '$59.99',\n",
       "  'RETURNING 1'],\n",
       " ['88', 'Punch Club 2: Fast Forward', '$19.99', 'NEW 1'],\n",
       " ['89', 'Conan Exiles', '$39.99', 'RETURNING 1'],\n",
       " ['90', 'Crusader Kings III', '$49.99', '▼ 22 16'],\n",
       " ['91', 'Hell Let Loose', '$44.99', 'RETURNING 1'],\n",
       " ['92', 'BeamNG.drive', '$24.99', '▼ 7 3'],\n",
       " ['93', 'Total War: WARHAMMER III', '$59.99', '▼ 29 4'],\n",
       " ['94', 'DayZ', '$44.99', '▼ 13 4'],\n",
       " ['95', 'Forza Horizon 5', '$59.99', '▼ 43 9'],\n",
       " ['96', 'VRChat', 'Free To Play', 'RETURNING 1'],\n",
       " ['97', 'PGA TOUR 2K23', '-67%', '$59.99', '$19.79', 'RETURNING 1'],\n",
       " ['98', 'Marvel’s Spider-Man Remastered', '$59.99', '▼ 57 9'],\n",
       " ['99', 'EA Play', '-80%', '$4.99', '$0.99', 'RETURNING 1'],\n",
       " ['100', 'Terraria', '$9.99', 'RETURNING 1']]"
      ]
     },
     "execution_count": 16,
     "metadata": {},
     "output_type": "execute_result"
    }
   ],
   "source": [
    "games"
   ]
  },
  {
   "cell_type": "code",
   "execution_count": 18,
   "metadata": {},
   "outputs": [],
   "source": [
    "weekly_top_sellers = pd.DataFrame(games, columns=['col1','col2','col3','col4','col5','col6'])"
   ]
  },
  {
   "cell_type": "code",
   "execution_count": 19,
   "metadata": {},
   "outputs": [],
   "source": [
    "weekly_top_sellers=weekly_top_sellers.reset_index(drop=True)"
   ]
  },
  {
   "cell_type": "code",
   "execution_count": 20,
   "metadata": {},
   "outputs": [],
   "source": [
    "weekly_top_sellers.to_csv(\"Weekly_Top_Sellers.csv\",index=False)"
   ]
  }
 ],
 "metadata": {
  "kernelspec": {
   "display_name": "Python 3",
   "language": "python",
   "name": "python3"
  },
  "language_info": {
   "codemirror_mode": {
    "name": "ipython",
    "version": 3
   },
   "file_extension": ".py",
   "mimetype": "text/x-python",
   "name": "python",
   "nbconvert_exporter": "python",
   "pygments_lexer": "ipython3",
   "version": "3.8.3"
  },
  "orig_nbformat": 4
 },
 "nbformat": 4,
 "nbformat_minor": 2
}
