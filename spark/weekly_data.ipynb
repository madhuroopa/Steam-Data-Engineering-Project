{
 "cells": [
  {
   "cell_type": "code",
   "execution_count": 23,
   "metadata": {},
   "outputs": [
    {
     "data": {
      "text/html": [
       "\n",
       "            <div>\n",
       "                <p><b>SparkSession - in-memory</b></p>\n",
       "                \n",
       "        <div>\n",
       "            <p><b>SparkContext</b></p>\n",
       "\n",
       "            <p><a href=\"http://host.docker.internal:4040\">Spark UI</a></p>\n",
       "\n",
       "            <dl>\n",
       "              <dt>Version</dt>\n",
       "                <dd><code>v3.4.1</code></dd>\n",
       "              <dt>Master</dt>\n",
       "                <dd><code>local[*]</code></dd>\n",
       "              <dt>AppName</dt>\n",
       "                <dd><code>TestSession</code></dd>\n",
       "            </dl>\n",
       "        </div>\n",
       "        \n",
       "            </div>\n",
       "        "
      ],
      "text/plain": [
       "<pyspark.sql.session.SparkSession at 0x1ee7b745a50>"
      ]
     },
     "execution_count": 23,
     "metadata": {},
     "output_type": "execute_result"
    }
   ],
   "source": [
    "from pyspark.sql import SparkSession\n",
    "from pyspark.sql.functions import *\n",
    "import os\n",
    "spark = SparkSession.builder.appName('TestSession').getOrCreate()\n",
    "spark"
   ]
  },
  {
   "cell_type": "code",
   "execution_count": 48,
   "metadata": {},
   "outputs": [],
   "source": [
    "sc = spark.sparkContext"
   ]
  },
  {
   "cell_type": "code",
   "execution_count": 57,
   "metadata": {},
   "outputs": [],
   "source": [
    "weekly_data_path = r'../data/weekly_data/' \n"
   ]
  },
  {
   "cell_type": "code",
   "execution_count": 90,
   "metadata": {},
   "outputs": [],
   "source": [
    "from pyspark.sql.types import StructType,DateType,LongType, StructField, StringType, IntegerType, BooleanType, ArrayType\n"
   ]
  },
  {
   "cell_type": "code",
   "execution_count": 62,
   "metadata": {},
   "outputs": [
    {
     "name": "stdout",
     "output_type": "stream",
     "text": [
      "+----+--------------------+------------+-------+---------------+-----+\n",
      "|Rank|           Game Name|Free to Play| App ID|Collection Date|Price|\n",
      "+----+--------------------+------------+-------+---------------+-----+\n",
      "|   1|      Baldurs Gate 3|           0|1086940|     2023-08-15|   59|\n",
      "|   2|CounterStrike Glo...|           1|    730|     2023-08-15|    0|\n",
      "|   3|           Starfield|           0|1716740|     2023-08-15|   69|\n",
      "|   4|       Madden NFL 24|           0|2140330|     2023-08-15|   69|\n",
      "|   5|          Steam Deck|           0|1675200|     2023-08-15|  399|\n",
      "|   6|The Texas Chain S...|           0|1433140|     2023-08-15|   39|\n",
      "|   7| Bomb Rush Cyberfunk|           0|1353230|     2023-08-15|   39|\n",
      "|   8|           Wayfinder|           0|1171690|     2023-08-15|   19|\n",
      "|   9|        Call of Duty|           0|1938090|     2023-08-15|    0|\n",
      "|  10|        Apex Legends|           1|1172470|     2023-08-15|    0|\n",
      "|  11|            Lost Ark|           1|1599340|     2023-08-15|    0|\n",
      "|  12|ARMORED CORE VI F...|           0|1888160|     2023-08-15|   59|\n",
      "|  13|         MahjongSoul|           0|1329410|     2023-08-15|    0|\n",
      "|  14|      Cyberpunk 2077|           0|1091500|     2023-08-15|   59|\n",
      "|  15|          Remnant II|           0|1282100|     2023-08-15|   49|\n",
      "|  16|Tom Clancys Rainb...|           0| 359550|     2023-08-15|   19|\n",
      "|  17|     Team Fortress 2|           1|    440|     2023-08-15|    0|\n",
      "|  18|         War Thunder|           1| 236390|     2023-08-15|    0|\n",
      "|  19|           Destiny 2|           1|1085660|     2023-08-15|    0|\n",
      "|  20|Baldurs Gate 3  D...|           0|2378500|     2023-08-15|    9|\n",
      "+----+--------------------+------------+-------+---------------+-----+\n",
      "only showing top 20 rows\n",
      "\n",
      "[('Rank', 'int'), ('Game Name', 'string'), ('Free to Play', 'int'), ('App ID', 'int'), ('Collection Date', 'date'), ('price', 'int')]\n"
     ]
    }
   ],
   "source": [
    "\n",
    "schema_top_sellers = StructType([\n",
    "    StructField(\"Rank\", IntegerType(), True),\n",
    "    StructField(\"Game Name\", StringType(), True),\n",
    "    StructField(\"Free to Play\", IntegerType(), True),\n",
    "    StructField(\"App ID\", IntegerType(), True),\n",
    "    StructField(\"Collection Date\", DateType(), True),\n",
    "    StructField(\"Price\", StringType(), True)\n",
    "    ])\n",
    "WEEKLY_TOP_SELLERS_PATH = weekly_data_path + r'top_sellers/'\n",
    "files = os.listdir(WEEKLY_TOP_SELLERS_PATH)\n",
    "\n",
    "FILE_DATE = None\n",
    "try:\n",
    "    csv_files = [f for f in files if f.endswith('.csv')]\n",
    "    for csv_file in csv_files:        \n",
    "        top_sellers = spark.read.csv(\n",
    "            WEEKLY_TOP_SELLERS_PATH + file,\n",
    "            header=True,\n",
    "            schema=schema_top_sellers\n",
    "        )\n",
    "        \n",
    "        top_sellers= top_sellers.withColumn('price',col('price').cast(StringType()))\n",
    "        top_sellers= top_sellers.withColumn('price',regexp_replace('price','\\\\$',\"\"))\n",
    "        top_sellers= top_sellers.withColumn('price',col('price').cast(IntegerType()))\n",
    "        top_sellers= top_sellers.withColumn('Free to Play',when(col('Free to Play')==0,1).otherwise(0))\n",
    "        top_sellers_df.cache()\n",
    "        top_sellers_df.show()\n",
    "        print(top_sellers.dtypes)\n",
    "\n",
    "except Exception as e:\n",
    "    print(\"An error occurred while reading the CSV file:\", e)"
   ]
  },
  {
   "cell_type": "code",
   "execution_count": 111,
   "metadata": {},
   "outputs": [],
   "source": [
    "#news\n",
    "'''weekly_top_news_schema = StructType([\n",
    "    StructField(\"appnews\", StructType([\n",
    "        StructField(\"appid\", IntegerType(), nullable=False),\n",
    "        StructField(\"newsitems\", ArrayType(StructType([\n",
    "            StructField(\"gid\", StringType(), nullable=False),\n",
    "            StructField(\"title\", StringType(), nullable=False),\n",
    "            StructField(\"url\", StringType(), nullable=False),\n",
    "            StructField(\"is_external_url\", BooleanType(), nullable=False),\n",
    "            StructField(\"author\", StringType(), nullable=False),\n",
    "            StructField(\"contents\", StringType(), nullable=False),\n",
    "            StructField(\"feedlabel\", StringType(), nullable=False),\n",
    "            StructField(\"date\", IntegerType(), nullable=False),\n",
    "            StructField(\"feedname\", StringType(), nullable=False),\n",
    "            StructField(\"feed_type\", IntegerType(), nullable=False),\n",
    "            StructField(\"appid\", IntegerType(), nullable=False),\n",
    "            StructField(\"tags\", ArrayType(StringType(), containsNull=False), nullable=True)\n",
    "        ]), containsNull=True), nullable=False),\n",
    "        StructField(\"count\", IntegerType(), nullable=False)\n",
    "    ]), nullable=True)\n",
    "])\n",
    "'''\n",
    "merged_df = None\n",
    "WEEKLY_TOP_NEWS_PATH = weekly_data_path + r'news/'\n",
    "files = os.listdir(WEEKLY_TOP_NEWS_PATH)\n",
    "\n",
    "try:\n",
    "    for file in files:\n",
    "        steam_game_news = spark.read.json(\n",
    "            WEEKLY_TOP_NEWS_PATH + file,\n",
    "            multiLine=True\n",
    "               \n",
    "        )\n",
    "        df_expanded = steam_game_news.select(\"appnews.appid\", explode(\"appnews.newsitems\").alias(\"newsitem\"))\n",
    "        merged_df = df_expanded.select(\n",
    "            col(\"appid\"),\n",
    "            col(\"newsitem.gid\").alias(\"gid\"),\n",
    "            col(\"newsitem.title\").alias(\"title\"),\n",
    "            col(\"newsitem.contents\").alias(\"News\")\n",
    "            \n",
    "        )\n",
    "       \n",
    "        if merged_df is None:\n",
    "            merged_df = merged_df\n",
    "        else:\n",
    "            merged_df = merged_df.union(merged_df)\n",
    "\n",
    "except:\n",
    "    print('No json files found')\n"
   ]
  },
  {
   "cell_type": "code",
   "execution_count": 114,
   "metadata": {},
   "outputs": [
    {
     "name": "stdout",
     "output_type": "stream",
     "text": [
      "+-------+-------------------+--------------------+--------------------+--------------------+\n",
      "|  appid|                gid|               title|                News|                 url|\n",
      "+-------+-------------------+--------------------+--------------------+--------------------+\n",
      "|1172470|5127964289174700621|Apex Legends Asia...|https://www.youtu...|https://steamstor...|\n",
      "|1172470|5127964289172274276|Apex Legends™ EA ...|Join EA Play to m...|https://steamstor...|\n",
      "|1172470|5839532486225989565|Apex Legends almo...|<strong><a href=\"...|https://steamstor...|\n",
      "|1172470|5839532486225989568|Apex Legends isn'...|As many of you pl...|https://steamstor...|\n",
      "|1172470|5839532486225761017|Apex Legends is t...|For <a href=\"http...|https://steamstor...|\n",
      "|1172470|5839532486211363026|Apex Legends shoc...|Fans of Respawn E...|https://steamstor...|\n",
      "|1172470|5839532486210677808|Apex Legends Seas...|<strong>When is t...|https://steamstor...|\n",
      "|1172470|5124585319868120117|APEX LEGENDS™: RE...|LEGEND UPDATE: RE...|https://steamstor...|\n",
      "|1172470|5124585319864510110|Apex Legends: Res...|Terrorize your en...|https://steamstor...|\n",
      "|1172470|5124585319864486374|Apex Legends' ner...|We know there are...|https://steamstor...|\n",
      "|1172470|5127964289174700621|Apex Legends Asia...|https://www.youtu...|https://steamstor...|\n",
      "|1172470|5127964289172274276|Apex Legends™ EA ...|Join EA Play to m...|https://steamstor...|\n",
      "|1172470|5839532486225989565|Apex Legends almo...|<strong><a href=\"...|https://steamstor...|\n",
      "|1172470|5839532486225989568|Apex Legends isn'...|As many of you pl...|https://steamstor...|\n",
      "|1172470|5839532486225761017|Apex Legends is t...|For <a href=\"http...|https://steamstor...|\n",
      "|1172470|5839532486211363026|Apex Legends shoc...|Fans of Respawn E...|https://steamstor...|\n",
      "|1172470|5839532486210677808|Apex Legends Seas...|<strong>When is t...|https://steamstor...|\n",
      "|1172470|5124585319868120117|APEX LEGENDS™: RE...|LEGEND UPDATE: RE...|https://steamstor...|\n",
      "|1172470|5124585319864510110|Apex Legends: Res...|Terrorize your en...|https://steamstor...|\n",
      "|1172470|5124585319864486374|Apex Legends' ner...|We know there are...|https://steamstor...|\n",
      "+-------+-------------------+--------------------+--------------------+--------------------+\n",
      "\n"
     ]
    }
   ],
   "source": [
    "merged_df.show()"
   ]
  },
  {
   "cell_type": "code",
   "execution_count": null,
   "metadata": {},
   "outputs": [],
   "source": [
    "schema_weekly_top_20_reviews= StructType([\n",
    "    StructField(\"App Id\",IntegerType(),True),\n",
    "    StructField(\"Review\",StringType(),True),\n",
    "    StructField(\"Voted Up\",StringType(),True)\n",
    "\n",
    "])"
   ]
  }
 ],
 "metadata": {
  "kernelspec": {
   "display_name": "Python 3",
   "language": "python",
   "name": "python3"
  },
  "language_info": {
   "codemirror_mode": {
    "name": "ipython",
    "version": 3
   },
   "file_extension": ".py",
   "mimetype": "text/x-python",
   "name": "python",
   "nbconvert_exporter": "python",
   "pygments_lexer": "ipython3",
   "version": "3.11.0"
  },
  "orig_nbformat": 4
 },
 "nbformat": 4,
 "nbformat_minor": 2
}
