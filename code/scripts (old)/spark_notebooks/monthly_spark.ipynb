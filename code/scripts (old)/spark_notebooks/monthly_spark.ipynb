{
 "cells": [
  {
   "cell_type": "code",
   "execution_count": null,
   "metadata": {},
   "outputs": [],
   "source": [
    "# Spark Code to process Monthly Data\n",
    "\n",
    "'''\n",
    "Input File:\n",
    "    - monthly_data/ *.csv\n",
    "\n",
    "Produces the following csv files:\n",
    "    - engagements_data\n",
    "    - traffic_sources\n",
    "    - estimated_monthly_visits\n",
    "'''"
   ]
  },
  {
   "cell_type": "code",
   "execution_count": 1,
   "metadata": {},
   "outputs": [],
   "source": [
    "from pyspark.sql import SparkSession\n",
    "import os\n",
    "spark = SparkSession.builder.appName('monthly_spark').getOrCreate()\n",
    "#spark"
   ]
  },
  {
   "cell_type": "code",
   "execution_count": 2,
   "metadata": {},
   "outputs": [],
   "source": [
    "from pyspark.sql.types import StructType, StructField, StringType, DoubleType, IntegerType, BooleanType, MapType, ArrayType\n",
    "from pyspark.sql.functions import lit\n",
    "\n",
    "# Define schema for the data\n",
    "schema = StructType([\n",
    "    StructField(\"Version\", IntegerType(), True),\n",
    "    StructField(\"SiteName\", StringType(), True),\n",
    "    StructField(\"Description\", StringType(), True),\n",
    "    StructField(\"TopCountryShares\", ArrayType(StructType([\n",
    "        StructField(\"Country\", IntegerType(), True),\n",
    "        StructField(\"CountryCode\", StringType(), True),\n",
    "        StructField(\"Value\", DoubleType(), True),\n",
    "    ])), True),\n",
    "    StructField(\"Title\", StringType(), True),\n",
    "    StructField(\"Engagments\", StructType([\n",
    "        StructField(\"BounceRate\", StringType(), True),\n",
    "        StructField(\"Month\", StringType(), True),\n",
    "        StructField(\"Year\", StringType(), True),\n",
    "        StructField(\"PagePerVisit\", StringType(), True),\n",
    "        StructField(\"Visits\", StringType(), True),\n",
    "        StructField(\"TimeOnSite\", StringType(), True),\n",
    "    ]), True),\n",
    "    StructField(\"EstimatedMonthlyVisits\", MapType(StringType(), IntegerType()), True),\n",
    "    StructField(\"GlobalRank\", StructType([\n",
    "        StructField(\"Rank\", IntegerType(), True),\n",
    "    ]), True),\n",
    "    StructField(\"CountryRank\", StructType([\n",
    "        StructField(\"Country\", StringType(), True),\n",
    "        StructField(\"CountryCode\", StringType(), True),\n",
    "        StructField(\"Rank\", IntegerType(), True),\n",
    "    ]), True),\n",
    "    StructField(\"CategoryRank\", StructType([\n",
    "        StructField(\"Rank\", IntegerType(), True),\n",
    "        StructField(\"Category\", StringType(), True),\n",
    "    ]), True),\n",
    "    StructField(\"IsSmall\", BooleanType(), True),\n",
    "    StructField(\"Policy\", IntegerType(), True),\n",
    "    StructField(\"TrafficSources\", StructType([\n",
    "        StructField(\"Social\", DoubleType(), True),\n",
    "        StructField(\"Paid Referrals\", DoubleType(), True),\n",
    "        StructField(\"Mail\", DoubleType(), True),\n",
    "        StructField(\"Referrals\", DoubleType(), True),\n",
    "        StructField(\"Search\", DoubleType(), True),\n",
    "        StructField(\"Direct\", DoubleType(), True),\n",
    "    ]), True),\n",
    "    StructField(\"Category\", StringType(), True),\n",
    "    StructField(\"LargeScreenshot\", StringType(), True),\n",
    "    StructField(\"IsDataFromGa\", BooleanType(), True),\n",
    "    StructField(\"Countries\", ArrayType(StructType([\n",
    "        StructField(\"Code\", StringType(), True),\n",
    "        StructField(\"UrlCode\", StringType(), True),\n",
    "        StructField(\"Name\", StringType(), True),\n",
    "    ])), True),\n",
    "    StructField(\"Competitors\", StructType([\n",
    "        StructField(\"TopSimilarityCompetitors\", ArrayType(StructType([\n",
    "            StructField(\"Domain\", StringType(), True),\n",
    "        ])), True),\n",
    "    ]), True),\n",
    "])\n"
   ]
  },
  {
   "cell_type": "code",
   "execution_count": 3,
   "metadata": {},
   "outputs": [
    {
     "name": "stdout",
     "output_type": "stream",
     "text": [
      "+-------+--------------------+--------------------+--------------------+----------------+--------------------+----------------------+----------+------------------+------------+-------+------+--------------------+--------------------+--------------------+------------+--------------------+--------------------+\n",
      "|Version|            SiteName|         Description|    TopCountryShares|           Title|          Engagments|EstimatedMonthlyVisits|GlobalRank|       CountryRank|CategoryRank|IsSmall|Policy|      TrafficSources|            Category|     LargeScreenshot|IsDataFromGa|           Countries|         Competitors|\n",
      "+-------+--------------------+--------------------+--------------------+----------------+--------------------+----------------------+----------+------------------+------------+-------+------+--------------------+--------------------+--------------------+------------+--------------------+--------------------+\n",
      "|      1|store.steampowere...|steam is the ulti...|[{840, US, 0.1457...|welcome to steam|{0.48138174732732...|  {2023-06-01 -> 17...|    {null}|{null, null, null}|{null, null}|  false|     0|{0.06460781172767...|games/video_games...|https://site-imag...|       false|[{AF, afghanistan...|{[{steamcommunity...|\n",
      "+-------+--------------------+--------------------+--------------------+----------------+--------------------+----------------------+----------+------------------+------------+-------+------+--------------------+--------------------+--------------------+------------+--------------------+--------------------+\n",
      "\n"
     ]
    }
   ],
   "source": [
    "MONTHLY_DATA_PATH = r'../data/monthly_data/' \n",
    "files = os.listdir(MONTHLY_DATA_PATH)\n",
    "\n",
    "FILE_DATE = None\n",
    "try:\n",
    "    json_file = [f for f in files if f.endswith('.json')]\n",
    "    file = json_file[0]\n",
    "    FILE_DATE = file.split('.')[0].split('_')[0]\n",
    "    steam_traffic = spark.read.json(\n",
    "        MONTHLY_DATA_PATH + file,\n",
    "        multiLine=True,\n",
    "        schema=schema  \n",
    "    )\n",
    "    steam_traffic.cache()\n",
    "    #steam_traffic.show()\n",
    "    steam_traffic = steam_traffic.withColumn(\"FILE_DATE\", lit(FILE_DATE))\n",
    "except Exception as e:\n",
    "    print(\"An error occurred while reading the JSON file:\", e)\n"
   ]
  },
  {
   "cell_type": "code",
   "execution_count": 4,
   "metadata": {},
   "outputs": [
    {
     "name": "stdout",
     "output_type": "stream",
     "text": [
      "+-------------------+-----+----+-----------------+------------------+------------------+----------+\n",
      "|         BounceRate|Month|Year|     PagePerVisit|            Visits|        TimeOnSite| FILE_DATE|\n",
      "+-------------------+-----+----+-----------------+------------------+------------------+----------+\n",
      "|0.48138174732732564|    8|2023|4.426160884504654|168273664.85540068|190.13336013714985|2023-09-24|\n",
      "+-------------------+-----+----+-----------------+------------------+------------------+----------+\n",
      "\n"
     ]
    }
   ],
   "source": [
    "\n",
    "engagements_data = steam_traffic.select(\"Engagments.BounceRate\",\n",
    "                                        \"Engagments.Month\",\n",
    "                                        \"Engagments.Year\",\n",
    "                                        \"Engagments.PagePerVisit\",\n",
    "                                        \"Engagments.Visits\",\n",
    "                                        \"Engagments.TimeOnSite\")\n",
    "\n",
    "engagements_data = engagements_data.withColumn(\"FILE_DATE\", lit(FILE_DATE))\n",
    "#engagements_data.show()\n"
   ]
  },
  {
   "cell_type": "code",
   "execution_count": 5,
   "metadata": {},
   "outputs": [
    {
     "name": "stdout",
     "output_type": "stream",
     "text": [
      "+----------+---------+\n",
      "|Date      |Visits   |\n",
      "+----------+---------+\n",
      "|2023-06-01|172451708|\n",
      "|2023-07-01|188136085|\n",
      "|2023-08-01|168273664|\n",
      "+----------+---------+\n",
      "\n"
     ]
    }
   ],
   "source": [
    "from pyspark.sql.functions import explode\n",
    "\n",
    "estimated_monthly_visits = steam_traffic.select(\"EstimatedMonthlyVisits\")\n",
    "# Split the 'EstimatedMonthlyVisits' column into separate rows and columns\n",
    "estimated_monthly_visits = estimated_monthly_visits.select(\n",
    "    explode(\"EstimatedMonthlyVisits\").alias(\"Date\", \"Visits\")\n",
    ")\n",
    "estimated_monthly_visits = estimated_monthly_visits.withColumn(\"FILE_DATE\", lit(FILE_DATE))\n",
    "#estimated_monthly_visits.show()"
   ]
  },
  {
   "cell_type": "code",
   "execution_count": 6,
   "metadata": {},
   "outputs": [
    {
     "name": "stdout",
     "output_type": "stream",
     "text": [
      "+-------------------+---------------------+--------------------+-------------------+------------------+-------------------+----------+\n",
      "|Social             |Paid Referrals       |Mail                |Referrals          |Search            |Direct             |FILE_DATE |\n",
      "+-------------------+---------------------+--------------------+-------------------+------------------+-------------------+----------+\n",
      "|0.06460781172767084|0.0016597399304503874|0.016175191632167206|0.09163391781301873|0.4531740415577455|0.37274929733894735|2023-09-24|\n",
      "+-------------------+---------------------+--------------------+-------------------+------------------+-------------------+----------+\n",
      "\n"
     ]
    }
   ],
   "source": [
    "traffic_sources = steam_traffic.select(\"TrafficSources.Social\",\n",
    "                                       \"TrafficSources.Paid Referrals\",\n",
    "                                       \"TrafficSources.Mail\",\n",
    "                                       \"TrafficSources.Referrals\",\n",
    "                                       \"TrafficSources.Search\",\n",
    "                                       \"TrafficSources.Direct\")\n",
    "\n",
    "traffic_sources = traffic_sources.withColumn(\"FILE_DATE\", lit(FILE_DATE))\n",
    "#traffic_sources.show(truncate=False)"
   ]
  },
  {
   "cell_type": "code",
   "execution_count": 7,
   "metadata": {},
   "outputs": [],
   "source": [
    "engagements_path = r\"../saved_data/monthly_data/engagements_data\"\n",
    "traffic_sources_path = r\"../saved_data/monthly_data/traffic_sources\"\n",
    "estimated_monthly_visits_path = r\"../saved_data/monthly_data/estimated_monthly_visits\"\n",
    "\n",
    "# Save the DataFrame as CSV\n",
    "engagements_data.write.format(\"csv\").mode(\"overwrite\").option(\"header\", \"true\").save(engagements_path)\n",
    "traffic_sources.write.format(\"csv\").mode(\"overwrite\").option(\"header\", \"true\").save(traffic_sources_path)\n",
    "estimated_monthly_visits.write.format(\"csv\").mode(\"overwrite\").option(\"header\", \"true\").save(estimated_monthly_visits_path)"
   ]
  },
  {
   "cell_type": "code",
   "execution_count": 9,
   "metadata": {},
   "outputs": [],
   "source": [
    "# Stop the SparkSession\n",
    "spark.stop()"
   ]
  },
  {
   "cell_type": "code",
   "execution_count": null,
   "metadata": {},
   "outputs": [],
   "source": []
  }
 ],
 "metadata": {
  "kernelspec": {
   "display_name": "Python 3",
   "language": "python",
   "name": "python3"
  },
  "language_info": {
   "codemirror_mode": {
    "name": "ipython",
    "version": 3
   },
   "file_extension": ".py",
   "mimetype": "text/x-python",
   "name": "python",
   "nbconvert_exporter": "python",
   "pygments_lexer": "ipython3",
   "version": "3.9.13"
  },
  "orig_nbformat": 4
 },
 "nbformat": 4,
 "nbformat_minor": 2
}
