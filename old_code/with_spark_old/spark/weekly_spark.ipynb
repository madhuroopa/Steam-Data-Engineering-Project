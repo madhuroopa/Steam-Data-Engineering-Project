{
 "cells": [
  {
   "cell_type": "code",
   "execution_count": 1,
   "metadata": {},
   "outputs": [
    {
     "data": {
      "text/html": [
       "\n",
       "            <div>\n",
       "                <p><b>SparkSession - in-memory</b></p>\n",
       "                \n",
       "        <div>\n",
       "            <p><b>SparkContext</b></p>\n",
       "\n",
       "            <p><a href=\"http://host.docker.internal:4041\">Spark UI</a></p>\n",
       "\n",
       "            <dl>\n",
       "              <dt>Version</dt>\n",
       "                <dd><code>v3.3.2</code></dd>\n",
       "              <dt>Master</dt>\n",
       "                <dd><code>local[*]</code></dd>\n",
       "              <dt>AppName</dt>\n",
       "                <dd><code>TestSession</code></dd>\n",
       "            </dl>\n",
       "        </div>\n",
       "        \n",
       "            </div>\n",
       "        "
      ],
      "text/plain": [
       "<pyspark.sql.session.SparkSession at 0x15d072d7370>"
      ]
     },
     "execution_count": 1,
     "metadata": {},
     "output_type": "execute_result"
    }
   ],
   "source": [
    "from pyspark.sql import SparkSession\n",
    "import os\n",
    "spark = SparkSession.builder.appName('TestSession').getOrCreate()\n",
    "spark"
   ]
  },
  {
   "cell_type": "code",
   "execution_count": 2,
   "metadata": {},
   "outputs": [],
   "source": [
    "WEEKLY_DATA_PATH = r'../data/weekly_data/' "
   ]
  },
  {
   "cell_type": "code",
   "execution_count": 3,
   "metadata": {},
   "outputs": [],
   "source": [
    "from pyspark.sql.types import StructType, StructField, StringType, IntegerType, BooleanType, ArrayType"
   ]
  },
  {
   "cell_type": "code",
   "execution_count": null,
   "metadata": {},
   "outputs": [],
   "source": [
    "#Top_sellers\n",
    "schema_top_sellers = StructType([\n",
    "    StructField(\"Rank\", IntegerType(), True),\n",
    "    StructField(\"Game Name\", StringType(), True),\n",
    "    StructField(\"Free to Play\", IntegerType(), True),\n",
    "    StructField(\"App ID\", IntegerType(), True),\n",
    "    StructField(\"Collection Date\", StringType(), True)\n",
    "    ])\n",
    "\n",
    "WEEKLY_TOP_SELLERS_PATH = WEEKLY_DATA_PATH + r'top_sellers/'\n",
    "files = os.listdir(WEEKLY_TOP_SELLERS_PATH)\n",
    "\n",
    "FILE_DATE = None\n",
    "try:\n",
    "    csv_file = [f for f in files if f.endswith('.csv')]\n",
    "    file = csv_file[0]\n",
    "    FILE_DATE = file.split('.')[0].split('_')[0]\n",
    "    top_sellers = spark.read.csv(\n",
    "        WEEKLY_TOP_SELLERS_PATH + file,\n",
    "        header=True,\n",
    "        schema=schema_top_sellers  \n",
    "    )\n",
    "    top_sellers.cache()\n",
    "    top_sellers.show()\n",
    "except Exception as e:\n",
    "    print(\"An error occurred while reading the CSV file:\", e)"
   ]
  },
  {
   "cell_type": "code",
   "execution_count": 44,
   "metadata": {},
   "outputs": [],
   "source": [
    "#news\n",
    "weekly_top_news_schema = StructType([\n",
    "    StructField(\"appnews\", StructType([\n",
    "        StructField(\"appid\", IntegerType(), nullable=False),\n",
    "        StructField(\"newsitems\", ArrayType(StructType([\n",
    "            StructField(\"gid\", StringType(), nullable=False),\n",
    "            StructField(\"title\", StringType(), nullable=False),\n",
    "            StructField(\"url\", StringType(), nullable=False),\n",
    "            StructField(\"is_external_url\", BooleanType(), nullable=False),\n",
    "            StructField(\"author\", StringType(), nullable=False),\n",
    "            StructField(\"contents\", StringType(), nullable=False),\n",
    "            StructField(\"feedlabel\", StringType(), nullable=False),\n",
    "            StructField(\"date\", IntegerType(), nullable=False),\n",
    "            StructField(\"feedname\", StringType(), nullable=False),\n",
    "            StructField(\"feed_type\", IntegerType(), nullable=False),\n",
    "            StructField(\"appid\", IntegerType(), nullable=False),\n",
    "            StructField(\"tags\", ArrayType(StringType(), containsNull=False), nullable=True)\n",
    "        ]), containsNull=True), nullable=False),\n",
    "        StructField(\"count\", IntegerType(), nullable=False)\n",
    "    ]), nullable=True)\n",
    "])\n",
    "\n",
    "merged_df = None\n",
    "WEEKLY_TOP_NEWS_PATH = WEEKLY_DATA_PATH + r'news/'\n",
    "files = os.listdir(WEEKLY_TOP_NEWS_PATH)\n",
    "try:\n",
    "    json_files = [pos_json for pos_json in files if pos_json.endswith('.json')]\n",
    "    for file in json_files:\n",
    "        steam_game_news = spark.read.json(\n",
    "            WEEKLY_TOP_NEWS_PATH + file,\n",
    "            multiLine=True,\n",
    "            schema = weekly_top_news_schema     \n",
    "        )\n",
    "        if merged_df is None:\n",
    "            merged_df = steam_game_news\n",
    "        else:\n",
    "            merged_df = merged_df.union(steam_game_news)\n",
    "except:\n",
    "    print('No json files found')\n"
   ]
  },
  {
   "cell_type": "code",
   "execution_count": 45,
   "metadata": {},
   "outputs": [
    {
     "name": "stdout",
     "output_type": "stream",
     "text": [
      "+--------------------+\n",
      "|             appnews|\n",
      "+--------------------+\n",
      "|{1086940, [{51245...|\n",
      "|{1172470, [{51245...|\n",
      "|{1282100, [{51245...|\n",
      "|{1675200, [{51245...|\n",
      "|{1895880, [{51245...|\n",
      "+--------------------+\n",
      "only showing top 5 rows\n",
      "\n"
     ]
    }
   ],
   "source": [
    "merged_df.show(5)"
   ]
  },
  {
   "cell_type": "code",
   "execution_count": 43,
   "metadata": {},
   "outputs": [
    {
     "name": "stdout",
     "output_type": "stream",
     "text": [
      "+--------------------+\n",
      "|             appnews|\n",
      "+--------------------+\n",
      "|{730, [{512458531...|\n",
      "+--------------------+\n",
      "\n"
     ]
    }
   ],
   "source": [
    "steam_game_news.show()"
   ]
  },
  {
   "cell_type": "code",
   "execution_count": null,
   "metadata": {},
   "outputs": [],
   "source": [
    "#reviews\n",
    "WEEKLY_TOP_10_REVIEWS_PATH = WEEKLY_DATA_PATH + r'reviews/'\n",
    "files = os.listdir(WEEKLY_DATA_PATH)\n",
    "try:\n",
    "    csv_file = [f for f in files if f.endswith('.txt')]\n",
    "    for file in csv_file:\n",
    "        reviews = spark.read.text(\n",
    "            WEEKLY_TOP_10_REVIEWS_PATH + file,\n",
    "        )\n",
    "        reviews.cache()\n",
    "        reviews.show()\n",
    "        break\n",
    "except Exception as e:\n",
    "    print(\"An error occurred while reading the CSV file:\", e)"
   ]
  }
 ],
 "metadata": {
  "kernelspec": {
   "display_name": "Python 3",
   "language": "python",
   "name": "python3"
  },
  "language_info": {
   "codemirror_mode": {
    "name": "ipython",
    "version": 3
   },
   "file_extension": ".py",
   "mimetype": "text/x-python",
   "name": "python",
   "nbconvert_exporter": "python",
   "pygments_lexer": "ipython3",
   "version": "3.8.2"
  },
  "orig_nbformat": 4
 },
 "nbformat": 4,
 "nbformat_minor": 2
}
