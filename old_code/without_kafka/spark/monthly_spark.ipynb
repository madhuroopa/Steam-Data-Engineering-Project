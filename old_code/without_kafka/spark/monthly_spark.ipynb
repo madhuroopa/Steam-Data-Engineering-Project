{
 "cells": [
  {
   "cell_type": "code",
   "execution_count": 1,
   "metadata": {},
   "outputs": [
    {
     "data": {
      "text/html": [
       "\n",
       "            <div>\n",
       "                <p><b>SparkSession - in-memory</b></p>\n",
       "                \n",
       "        <div>\n",
       "            <p><b>SparkContext</b></p>\n",
       "\n",
       "            <p><a href=\"http://host.docker.internal:4040\">Spark UI</a></p>\n",
       "\n",
       "            <dl>\n",
       "              <dt>Version</dt>\n",
       "                <dd><code>v3.3.2</code></dd>\n",
       "              <dt>Master</dt>\n",
       "                <dd><code>local[*]</code></dd>\n",
       "              <dt>AppName</dt>\n",
       "                <dd><code>TestSession</code></dd>\n",
       "            </dl>\n",
       "        </div>\n",
       "        \n",
       "            </div>\n",
       "        "
      ],
      "text/plain": [
       "<pyspark.sql.session.SparkSession at 0x18475262c10>"
      ]
     },
     "execution_count": 1,
     "metadata": {},
     "output_type": "execute_result"
    }
   ],
   "source": [
    "from pyspark.sql import SparkSession\n",
    "import os\n",
    "spark = SparkSession.builder.appName('TestSession').getOrCreate()\n",
    "spark"
   ]
  },
  {
   "cell_type": "code",
   "execution_count": 2,
   "metadata": {},
   "outputs": [],
   "source": [
    "from pyspark.sql.types import StructType, StructField, StringType, DoubleType, IntegerType, BooleanType, MapType, ArrayType\n",
    "\n",
    "schema = StructType([\n",
    "    StructField(\"Version\", IntegerType(), True),\n",
    "    StructField(\"SiteName\", StringType(), True),\n",
    "    StructField(\"Description\", StringType(), True),\n",
    "    StructField(\"TopCountryShares\", ArrayType(StructType([\n",
    "        StructField(\"Country\", IntegerType(), True),\n",
    "        StructField(\"CountryCode\", StringType(), True),\n",
    "        StructField(\"Value\", DoubleType(), True),\n",
    "    ])), True),\n",
    "    StructField(\"Title\", StringType(), True),\n",
    "    StructField(\"Engagments\", StructType([\n",
    "        StructField(\"BounceRate\", StringType(), True),\n",
    "        StructField(\"Month\", StringType(), True),\n",
    "        StructField(\"Year\", StringType(), True),\n",
    "        StructField(\"PagePerVisit\", StringType(), True),\n",
    "        StructField(\"Visits\", StringType(), True),\n",
    "        StructField(\"TimeOnSite\", StringType(), True),\n",
    "    ]), True),\n",
    "    StructField(\"EstimatedMonthlyVisits\", MapType(StringType(), IntegerType()), True),\n",
    "    StructField(\"GlobalRank\", StructType([\n",
    "        StructField(\"Rank\", IntegerType(), True),\n",
    "    ]), True),\n",
    "    StructField(\"CountryRank\", StructType([\n",
    "        StructField(\"Country\", StringType(), True),\n",
    "        StructField(\"CountryCode\", StringType(), True),\n",
    "        StructField(\"Rank\", IntegerType(), True),\n",
    "    ]), True),\n",
    "    StructField(\"CategoryRank\", StructType([\n",
    "        StructField(\"Rank\", IntegerType(), True),\n",
    "        StructField(\"Category\", StringType(), True),\n",
    "    ]), True),\n",
    "    StructField(\"IsSmall\", BooleanType(), True),\n",
    "    StructField(\"Policy\", IntegerType(), True),\n",
    "    StructField(\"TrafficSources\", StructType([\n",
    "        StructField(\"Social\", DoubleType(), True),\n",
    "        StructField(\"Paid Referrals\", DoubleType(), True),\n",
    "        StructField(\"Mail\", DoubleType(), True),\n",
    "        StructField(\"Referrals\", DoubleType(), True),\n",
    "        StructField(\"Search\", DoubleType(), True),\n",
    "        StructField(\"Direct\", DoubleType(), True),\n",
    "    ]), True),\n",
    "    StructField(\"Category\", StringType(), True),\n",
    "    StructField(\"LargeScreenshot\", StringType(), True),\n",
    "    StructField(\"IsDataFromGa\", BooleanType(), True),\n",
    "    StructField(\"Countries\", ArrayType(StructType([\n",
    "        StructField(\"Code\", StringType(), True),\n",
    "        StructField(\"UrlCode\", StringType(), True),\n",
    "        StructField(\"Name\", StringType(), True),\n",
    "    ])), True),\n",
    "    StructField(\"Competitors\", StructType([\n",
    "        StructField(\"TopSimilarityCompetitors\", ArrayType(StructType([\n",
    "            StructField(\"Domain\", StringType(), True),\n",
    "        ])), True),\n",
    "    ]), True),\n",
    "])\n"
   ]
  },
  {
   "cell_type": "code",
   "execution_count": null,
   "metadata": {},
   "outputs": [],
   "source": [
    "\n"
   ]
  },
  {
   "cell_type": "code",
   "execution_count": 3,
   "metadata": {},
   "outputs": [
    {
     "name": "stdout",
     "output_type": "stream",
     "text": [
      "+-------+--------------------+--------------------+--------------------+----------------+--------------------+----------------------+----------+------------------+------------+-------+------+--------------------+--------------------+--------------------+------------+--------------------+-----------+\n",
      "|Version|            SiteName|         Description|    TopCountryShares|           Title|          Engagments|EstimatedMonthlyVisits|GlobalRank|       CountryRank|CategoryRank|IsSmall|Policy|      TrafficSources|            Category|     LargeScreenshot|IsDataFromGa|           Countries|Competitors|\n",
      "+-------+--------------------+--------------------+--------------------+----------------+--------------------+----------------------+----------+------------------+------------+-------+------+--------------------+--------------------+--------------------+------------+--------------------+-----------+\n",
      "|      1|store.steampowere...|steam is the ulti...|[{840, US, 0.1445...|welcome to steam|{0.48607075874857...|  {2023-04-01 -> 17...|    {null}|{null, null, null}|{null, null}|  false|     0|{0.06221286220003...|games/video_games...|https://site-imag...|       false|[{AF, afghanistan...|       null|\n",
      "+-------+--------------------+--------------------+--------------------+----------------+--------------------+----------------------+----------+------------------+------------+-------+------+--------------------+--------------------+--------------------+------------+--------------------+-----------+\n",
      "\n"
     ]
    }
   ],
   "source": [
    "MONTHLY_DATA_PATH = r'../data/monthly_data/' \n",
    "files = os.listdir(MONTHLY_DATA_PATH)\n",
    "\n",
    "FILE_DATE = None\n",
    "try:\n",
    "    json_file = [f for f in files if f.endswith('.json')]\n",
    "    file = json_file[0]\n",
    "    FILE_DATE = file.split('.')[0].split('_')[0]\n",
    "    steam_traffic = spark.read.json(\n",
    "        MONTHLY_DATA_PATH + file,\n",
    "        multiLine=True,\n",
    "        schema=schema  \n",
    "    )\n",
    "    steam_traffic.cache()\n",
    "    steam_traffic.show()\n",
    "except Exception as e:\n",
    "    print(\"An error occurred while reading the JSON file:\", e)\n"
   ]
  },
  {
   "cell_type": "code",
   "execution_count": 4,
   "metadata": {},
   "outputs": [],
   "source": [
    "FILE_DATE\n",
    "from pyspark.sql.functions import lit"
   ]
  },
  {
   "cell_type": "code",
   "execution_count": 5,
   "metadata": {},
   "outputs": [
    {
     "name": "stdout",
     "output_type": "stream",
     "text": [
      "+-------------------+-----+----+-----------------+------------------+------------------+----------+\n",
      "|         BounceRate|Month|Year|     PagePerVisit|            Visits|        TimeOnSite| FILE_DATE|\n",
      "+-------------------+-----+----+-----------------+------------------+------------------+----------+\n",
      "|0.48607075874857913|    6|2023|4.539245279963454|172451708.64032623|202.83973499447066|2023-08-02|\n",
      "+-------------------+-----+----+-----------------+------------------+------------------+----------+\n",
      "\n"
     ]
    }
   ],
   "source": [
    "engagements_data = steam_traffic.select(\"Engagments.BounceRate\",\n",
    "                                        \"Engagments.Month\",\n",
    "                                        \"Engagments.Year\",\n",
    "                                        \"Engagments.PagePerVisit\",\n",
    "                                        \"Engagments.Visits\",\n",
    "                                        \"Engagments.TimeOnSite\")\n",
    "\n",
    "# Show the extracted data\n",
    "engagements_data = engagements_data.withColumn(\"FILE_DATE\", lit(FILE_DATE))\n",
    "engagements_data.show()\n"
   ]
  },
  {
   "cell_type": "code",
   "execution_count": 6,
   "metadata": {},
   "outputs": [
    {
     "name": "stdout",
     "output_type": "stream",
     "text": [
      "+---------------------------------------------------------------------------+\n",
      "|EstimatedMonthlyVisits                                                     |\n",
      "+---------------------------------------------------------------------------+\n",
      "|{2023-04-01 -> 172299056, 2023-05-01 -> 165019977, 2023-06-01 -> 172451708}|\n",
      "+---------------------------------------------------------------------------+\n",
      "\n"
     ]
    }
   ],
   "source": [
    "estimated_monthly_visits = steam_traffic.select(\"EstimatedMonthlyVisits\")\n",
    "estimated_monthly_visits.show(truncate=False)"
   ]
  },
  {
   "cell_type": "code",
   "execution_count": 7,
   "metadata": {},
   "outputs": [
    {
     "name": "stdout",
     "output_type": "stream",
     "text": [
      "+-------------------+---------------------+-------------------+-------------------+-------------------+------------------+----------+\n",
      "|Social             |Paid Referrals       |Mail               |Referrals          |Search             |Direct            |FILE_DATE |\n",
      "+-------------------+---------------------+-------------------+-------------------+-------------------+------------------+----------+\n",
      "|0.06221286220003415|0.0040070853258729906|0.02070590728941937|0.09180929101643757|0.45005046953609584|0.3712143846321399|2023-08-02|\n",
      "+-------------------+---------------------+-------------------+-------------------+-------------------+------------------+----------+\n",
      "\n"
     ]
    }
   ],
   "source": [
    "traffic_sources = steam_traffic.select(\"TrafficSources.Social\",\n",
    "                                       \"TrafficSources.Paid Referrals\",\n",
    "                                       \"TrafficSources.Mail\",\n",
    "                                       \"TrafficSources.Referrals\",\n",
    "                                       \"TrafficSources.Search\",\n",
    "                                       \"TrafficSources.Direct\")\n",
    "\n",
    "traffic_sources = traffic_sources.withColumn(\"FILE_DATE\", lit(FILE_DATE))\n",
    "traffic_sources.show(truncate=False)"
   ]
  },
  {
   "cell_type": "code",
   "execution_count": null,
   "metadata": {},
   "outputs": [],
   "source": []
  },
  {
   "cell_type": "code",
   "execution_count": null,
   "metadata": {},
   "outputs": [],
   "source": [
    "# Save engagements_data as a Spark SQL table\n",
    "#table_name = \"engagements_table\"\n",
    "#engagements_data.write.mode(\"overwrite\").saveAsTable(table_name)\n",
    "##engagements_data.write.insertInto(table_name)"
   ]
  }
 ],
 "metadata": {
  "kernelspec": {
   "display_name": "Python 3",
   "language": "python",
   "name": "python3"
  },
  "language_info": {
   "codemirror_mode": {
    "name": "ipython",
    "version": 3
   },
   "file_extension": ".py",
   "mimetype": "text/x-python",
   "name": "python",
   "nbconvert_exporter": "python",
   "pygments_lexer": "ipython3",
   "version": "3.8.2"
  },
  "orig_nbformat": 4
 },
 "nbformat": 4,
 "nbformat_minor": 2
}
